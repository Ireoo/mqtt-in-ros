{
 "cells": [
  {
   "cell_type": "code",
   "execution_count": null,
   "id": "d812344d-3e8a-485f-914f-e1968f1c8ec7",
   "metadata": {},
   "outputs": [],
   "source": [
    "!pip install luma.oled"
   ]
  },
  {
   "cell_type": "code",
   "execution_count": null,
   "id": "53602eb7-92c1-44ba-9c38-f93582851898",
   "metadata": {},
   "outputs": [],
   "source": [
    "import socket\n",
    "\n",
    "def get_lan_ip():\n",
    "    try:\n",
    "        s = socket.socket(socket.AF_INET, socket.SOCK_DGRAM)\n",
    "        s.connect((\"8.8.8.8\", 80))\n",
    "        ip = s.getsockname()[0]\n",
    "        s.close()\n",
    "        return ip\n",
    "    except:\n",
    "        return \"None\""
   ]
  },
  {
   "cell_type": "code",
   "execution_count": null,
   "id": "f138f365-9131-4388-bcce-de94d9e2a108",
   "metadata": {},
   "outputs": [],
   "source": [
    "from luma.core.interface.serial import i2c\n",
    "from luma.core.render import canvas\n",
    "from luma.oled.device import ssd1306\n",
    "from PIL import ImageDraw, ImageFont\n",
    "\n",
    "# 创建 I2C 设备\n",
    "serial = i2c(port=0, address=0x3c)\n",
    "\n",
    "# 创建 SSD1306 OLED 设备\n",
    "device = ssd1306(serial)\n",
    "\n",
    "# 创建画布并在画布上绘制\n",
    "with canvas(device) as draw:\n",
    "    draw.text((20, 20), \"IP Address:\", fill=\"white\")\n",
    "    draw.text((20, 30), get_lan_ip(), fill=\"white\")\n"
   ]
  },
  {
   "cell_type": "code",
   "execution_count": null,
   "id": "8149dd09-b79b-4301-a2db-e0b76eed18da",
   "metadata": {},
   "outputs": [],
   "source": [
    "!sudo i2cdetect -y -r 0"
   ]
  },
  {
   "cell_type": "code",
   "execution_count": null,
   "id": "c8b359f3-bc3f-40f8-b06f-5a1181b5ca10",
   "metadata": {},
   "outputs": [],
   "source": []
  }
 ],
 "metadata": {
  "kernelspec": {
   "display_name": "Python 3",
   "language": "python",
   "name": "python3"
  },
  "language_info": {
   "codemirror_mode": {
    "name": "ipython",
    "version": 3
   },
   "file_extension": ".py",
   "mimetype": "text/x-python",
   "name": "python",
   "nbconvert_exporter": "python",
   "pygments_lexer": "ipython3",
   "version": "3.6.9"
  }
 },
 "nbformat": 4,
 "nbformat_minor": 5
}
