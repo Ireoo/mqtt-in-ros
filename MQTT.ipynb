{
 "cells": [
  {
   "cell_type": "code",
   "execution_count": 4,
   "metadata": {},
   "outputs": [],
   "source": [
    "import os\n",
    "\n",
    "# MQTT server address\n",
    "os.environ[\"MQTT_IP\"] = \"localhost\"\n",
    "os.environ[\"MQTT_PORT\"] = \"1883\""
   ]
  },
  {
   "cell_type": "code",
   "execution_count": null,
   "metadata": {},
   "outputs": [],
   "source": [
    "!cd /home/nvidia/mqtt_ws/src/mqtt && git checkout -- config/demo_params.yaml"
   ]
  },
  {
   "cell_type": "code",
   "execution_count": null,
   "metadata": {},
   "outputs": [],
   "source": [
    "!sed -i \\\"s/host: localhost/host: $MQTT_IP/g\\\" /home/nvidia/mqtt_ws/src/mqtt/config/demo_params.yaml"
   ]
  },
  {
   "cell_type": "code",
   "execution_count": null,
   "metadata": {},
   "outputs": [],
   "source": [
    "!sed -i \\\"s/port: 1883/port: $MQTT_PORT/g\\\" /home/nvidia/mqtt_ws/src/mqtt/config/demo_params.yaml"
   ]
  },
  {
   "cell_type": "code",
   "execution_count": null,
   "metadata": {},
   "outputs": [],
   "source": [
    "!chmod +x -R /home/nvidia/mqtt_ws"
   ]
  },
  {
   "cell_type": "code",
   "execution_count": null,
   "metadata": {},
   "outputs": [],
   "source": [
    "!pip3 install dev-requirements.txt"
   ]
  },
  {
   "cell_type": "code",
   "execution_count": null,
   "metadata": {},
   "outputs": [],
   "source": [
    "!roslaunch mqtt_bridge demo.launch"
   ]
  },
  {
   "attachments": {},
   "cell_type": "markdown",
   "metadata": {},
   "source": [
    "# 下面是使用 MQTT Explorer 相关操作\n",
    "\n",
    "## 启动 detectnet\n",
    "```\n",
    "start|detectnet|input=v4l2:///dev/video0|output=rtp://192.168.74.1:1234|width=1980|height=1080\n",
    "```\n",
    "\n",
    "## 启动 apriltag\n",
    "```\n",
    "start|apriltag\n",
    "```"
   ]
  }
 ],
 "metadata": {
  "kernelspec": {
   "display_name": "Python 3",
   "language": "python",
   "name": "python3"
  },
  "language_info": {
   "codemirror_mode": {
    "name": "ipython",
    "version": 3
   },
   "file_extension": ".py",
   "mimetype": "text/x-python",
   "name": "python",
   "nbconvert_exporter": "python",
   "pygments_lexer": "ipython3",
   "version": "3.6.9"
  }
 },
 "nbformat": 4,
 "nbformat_minor": 2
}
