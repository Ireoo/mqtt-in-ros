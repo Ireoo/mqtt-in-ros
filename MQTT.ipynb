{
 "cells": [
  {
   "cell_type": "code",
   "execution_count": 4,
   "metadata": {},
   "outputs": [],
   "source": [
    "import os\n",
    "\n",
    "# 设置环境变量\n",
    "os.environ[\"IP\"] = \"192.168.74.130\"\n",
    "\n",
    "# device name\n",
    "os.environ[\"MAC_ID\"] = \"car\"\n",
    "\n",
    "# MQTT server address\n",
    "os.environ[\"MQTT_IP\"] = \"192.168.74.1\"\n",
    "os.environ[\"MQTT_PORT\"] = \"1883\"\n",
    "\n",
    "# detectnet\n",
    "os.environ[\"VIDEO_IP\"] = \"192.168.74.1:1234\"\n",
    "os.environ[\"VIDEO_WIDTH\"] = \"1980\"\n",
    "os.environ[\"VIDEO_HEIGHT\"] = \"1080\""
   ]
  },
  {
   "cell_type": "code",
   "execution_count": null,
   "metadata": {},
   "outputs": [],
   "source": [
    "!cd /home/nvidia/mqtt_ws/src/mqtt && git checkout -- config/demo_params.yaml"
   ]
  },
  {
   "cell_type": "code",
   "execution_count": null,
   "metadata": {},
   "outputs": [],
   "source": [
    "!sed -i \\\"s/host: localhost/host: $MQTT_IP/g\\\" /home/nvidia/mqtt_ws/src/mqtt/config/demo_params.yaml"
   ]
  },
  {
   "cell_type": "code",
   "execution_count": null,
   "metadata": {},
   "outputs": [],
   "source": [
    "!sed -i \\\"s/port: 1883/port: $MQTT_PORT/g\\\" /home/nvidia/mqtt_ws/src/mqtt/config/demo_params.yaml"
   ]
  },
  {
   "cell_type": "code",
   "execution_count": null,
   "metadata": {},
   "outputs": [],
   "source": [
    "!chmod +x -R /home/nvidia/mqtt_ws"
   ]
  },
  {
   "cell_type": "code",
   "execution_count": null,
   "metadata": {},
   "outputs": [],
   "source": [
    "!cd /home/nvidia/mqtt_ws/devel\n",
    "!source setup.bash\n",
    "!roslaunch mqtt_bridge demo.launch"
   ]
  },
  {
   "cell_type": "markdown",
   "metadata": {},
   "source": [
    "# connect MQTT server"
   ]
  },
  {
   "cell_type": "markdown",
   "metadata": {},
   "source": [
    "# 下面是 MQTT 相关操作"
   ]
  }
 ],
 "metadata": {
  "kernelspec": {
   "display_name": "Python 3",
   "language": "python",
   "name": "python3"
  },
  "language_info": {
   "codemirror_mode": {
    "name": "ipython",
    "version": 3
   },
   "file_extension": ".py",
   "mimetype": "text/x-python",
   "name": "python",
   "nbconvert_exporter": "python",
   "pygments_lexer": "ipython3",
   "version": "3.6.9"
  }
 },
 "nbformat": 4,
 "nbformat_minor": 2
}
