{
 "cells": [
  {
   "cell_type": "code",
   "execution_count": null,
   "metadata": {},
   "outputs": [],
   "source": [
    "import os\n",
    "\n",
    "# MQTT server address\n",
    "os.environ[\"MQTT_IP\"] = \"localhost\"\n",
    "os.environ[\"MQTT_PORT\"] = \"1883\""
   ]
  },
  {
   "cell_type": "code",
   "execution_count": null,
   "metadata": {},
   "outputs": [],
   "source": [
    "!cd /home/nvidia/mqtt_ws/src/mqtt && git checkout -- config/demo_params.yaml"
   ]
  },
  {
   "cell_type": "code",
   "execution_count": null,
   "metadata": {},
   "outputs": [],
   "source": [
    "!sed -i \"s/host: localhost/host: $MQTT_IP/g\" /home/nvidia/mqtt_ws/src/mqtt/config/demo_params.yaml"
   ]
  },
  {
   "cell_type": "code",
   "execution_count": null,
   "metadata": {},
   "outputs": [],
   "source": [
    "!sed -i \"s/port: 1883/port: $MQTT_PORT/g\" /home/nvidia/mqtt_ws/src/mqtt/config/demo_params.yaml"
   ]
  },
  {
   "cell_type": "code",
   "execution_count": null,
   "metadata": {},
   "outputs": [],
   "source": [
    "!chmod +x -R /home/nvidia/mqtt_ws"
   ]
  },
  {
   "cell_type": "code",
   "execution_count": null,
   "metadata": {},
   "outputs": [],
   "source": [
    "# 出现错误根据错误执行下面相关操作，默认已经全部安装\n",
    "!roslaunch mqtt_bridge demo.launch"
   ]
  },
  {
   "cell_type": "code",
   "execution_count": null,
   "metadata": {},
   "outputs": [],
   "source": [
    "!pip install -r dev-requirements.txt"
   ]
  },
  {
   "cell_type": "code",
   "execution_count": null,
   "metadata": {},
   "outputs": [],
   "source": [
    "!pip install rospkg"
   ]
  },
  {
   "cell_type": "code",
   "execution_count": null,
   "metadata": {},
   "outputs": [],
   "source": [
    "!apt install ros-melodic-apriltag-ros -y"
   ]
  },
  {
   "attachments": {},
   "cell_type": "markdown",
   "metadata": {
    "tags": []
   },
   "source": [
    "# 下面是使用 MQTT Explorer 相关操作\n",
    "\n",
    "## 启动 detectnet\n",
    "```\n",
    "start|detectnet|input=v4l2:///dev/video0|output=rtp://[user_ip]:1234|width=640|height=480\n",
    "```\n",
    "\n",
    "```\n",
    "// 查看视频流数据\n",
    "gst-launch-1.0 -v udpsrc port=1234 caps = \"application/x-rtp, media=(string)video, clock-rate=(int)90000, encoding-name=(string)H264, payload=(int)96\" ! rtph264depay ! decodebin ! videoconvert ! autovideosink sync=false\n",
    "```\n",
    "\n",
    "```\n",
    "// 使用内置模型 默认 ssd-mobilenet-v2\n",
    "// 参考地址：https://github.com/dusty-nv/jetson-inference#object-detection\n",
    "start|detectnet|input=v4l2:///dev/video0|output=rtp://[user_ip]:1234|width=640|height=480|model_name=SSD-Mobilenet-v2\n",
    "```\n",
    "\n",
    "```\n",
    "// 加载自定义模型\n",
    "start|detectnet|input=v4l2:///dev/video0|output=rtp://[user_ip]:1234|width=640|height=480|model_path=/home/nvidia/mqtt_ws/src/mqtt/models/[user model]|class_labels_path=/home/nvidia/mqtt_ws/src/mqtt/models/labels.txt|output_bbox=boxes|input_blob=input_0|output_cvg=scores\n",
    "```\n",
    "\n",
    "## 启动 videoviewer\n",
    "```\n",
    "start|videoviewer|input=v4l2:///dev/video0|output=rtp://[user_ip]:1234|width=640|height=480\n",
    "```\n",
    "\n",
    "```\n",
    "// 查看视频流数据\n",
    "gst-launch-1.0 -v udpsrc port=1234 caps = \"application/x-rtp, media=(string)video, clock-rate=(int)90000, encoding-name=(string)H264, payload=(int)96\" ! rtph264depay ! decodebin ! videoconvert ! autovideosink sync=false\n",
    "```\n",
    "\n",
    "## 启动 imagenet\n",
    "```\n",
    "start|imagenet|input=v4l2:///dev/video0|output=rtp://[user_ip]:1234\n",
    "\n",
    "// 使用内置模型 默认：googlenet\n",
    "// 参考地址：https://github.com/dusty-nv/jetson-inference#image-recognition\n",
    "start|imagenet|input=v4l2:///dev/video0|output=rtp://[user_ip]:1234|model_name=googlenet\n",
    "```\n",
    "\n",
    "## 启动 apriltag\n",
    "```\n",
    "start|apriltag\n",
    "```\n",
    "\n",
    "## 关闭服务\n",
    "```\n",
    "stop\n",
    "```"
   ]
  }
 ],
 "metadata": {
  "kernelspec": {
   "display_name": "Python 3",
   "language": "python",
   "name": "python3"
  },
  "language_info": {
   "codemirror_mode": {
    "name": "ipython",
    "version": 3
   },
   "file_extension": ".py",
   "mimetype": "text/x-python",
   "name": "python",
   "nbconvert_exporter": "python",
   "pygments_lexer": "ipython3",
   "version": "3.6.9"
  }
 },
 "nbformat": 4,
 "nbformat_minor": 4
}
