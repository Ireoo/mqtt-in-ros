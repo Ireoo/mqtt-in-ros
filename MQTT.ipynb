{
 "cells": [
  {
   "cell_type": "code",
   "execution_count": null,
   "metadata": {},
   "outputs": [],
   "source": [
    "import os\n",
    "\n",
    "# MQTT server address\n",
    "os.environ[\"MQTT_IP\"] = \"localhost\"\n",
    "os.environ[\"MQTT_PORT\"] = \"1883\""
   ]
  },
  {
   "cell_type": "code",
   "execution_count": null,
   "metadata": {},
   "outputs": [],
   "source": [
    "# Initialize the configuration file\n",
    "!cd /home/nvidia/mqtt_ws/src/mqtt && git checkout -- config/demo_params.yaml"
   ]
  },
  {
   "cell_type": "code",
   "execution_count": null,
   "metadata": {},
   "outputs": [],
   "source": [
    "!sed -i \"s/host: localhost/host: $MQTT_IP/g\" /home/nvidia/mqtt_ws/src/mqtt/config/demo_params.yaml"
   ]
  },
  {
   "cell_type": "code",
   "execution_count": null,
   "metadata": {},
   "outputs": [],
   "source": [
    "!sed -i \"s/port: 1883/port: $MQTT_PORT/g\" /home/nvidia/mqtt_ws/src/mqtt/config/demo_params.yaml"
   ]
  },
  {
   "cell_type": "code",
   "execution_count": null,
   "metadata": {},
   "outputs": [],
   "source": [
    "# Turn off detectnetall and apriltagall message output\n",
    "!sed -i '39,42 s/^/#/' /home/nvidia/mqtt_ws/src/mqtt/config/demo_params.yaml\n",
    "!sed -i '51,54 s/^/#/' /home/nvidia/mqtt_ws/src/mqtt/config/demo_params.yaml"
   ]
  },
  {
   "cell_type": "code",
   "execution_count": null,
   "metadata": {},
   "outputs": [],
   "source": [
    "!chmod +x -R /home/nvidia/mqtt_ws"
   ]
  },
  {
   "cell_type": "code",
   "execution_count": null,
   "metadata": {},
   "outputs": [],
   "source": [
    "!roslaunch mqtt_bridge demo.launch"
   ]
  },
  {
   "cell_type": "markdown",
   "metadata": {},
   "source": [
    "!pip install -r dev-requirements.txt"
   ]
  },
  {
   "cell_type": "markdown",
   "metadata": {},
   "source": [
    "!pip install rospkg"
   ]
  },
  {
   "cell_type": "markdown",
   "metadata": {},
   "source": [
    "!apt install ros-melodic-apriltag-ros -y"
   ]
  },
  {
   "cell_type": "markdown",
   "metadata": {
    "tags": []
   },
   "source": [
    "local computer # Please use MQTT Explorer for the following command\n",
    "\n",
    "## start detectnet\n",
    "```\n",
    "start|detectnet|input=v4l2:///dev/video0|output=rtp://[user_ip]:1234|width=640|height=480\n",
    "```\n",
    "\n",
    "```\n",
    "// get video streamm using Gstream\n",
    "gst-launch-1.0 -v udpsrc port=1234 caps = \"application/x-rtp, media=(string)video, clock-rate=(int)90000, encoding-name=(string)H264, payload=(int)96\" ! rtph264depay ! decodebin ! videoconvert ! autovideosink sync=false\n",
    "```\n",
    "\n",
    "```\n",
    "// use internal default model ssd-mobilenet-v2\n",
    "// reference：https://github.com/dusty-nv/jetson-inference#object-detection\n",
    "start|detectnet|input=v4l2:///dev/video0|output=rtp://[user_ip]:1234|width=640|height=480|model_name=SSD-Mobilenet-v2\n",
    "```\n",
    "\n",
    "```\n",
    "// run customized model\n",
    "start|detectnet|input=v4l2:///dev/video0|output=rtp://[user_ip]:1234|width=640|height=480|model_path=/home/nvidia/mqtt_ws/src/mqtt/models/[user model]|class_labels_path=/home/nvidia/mqtt_ws/src/mqtt/models/labels.txt|output_bbox=boxes|input_blob=input_0|output_cvg=scores\n",
    "```\n",
    "\n",
    "## start videoviewer\n",
    "```\n",
    "start|videoviewer|input=v4l2:///dev/video0|output=rtp://[user_ip]:1234|width=640|height=480\n",
    "```\n",
    "\n",
    "```\n",
    "// get video stream using Gstream\n",
    "gst-launch-1.0 -v udpsrc port=1234 caps = \"application/x-rtp, media=(string)video, clock-rate=(int)90000, encoding-name=(string)H264, payload=(int)96\" ! rtph264depay ! decodebin ! videoconvert ! autovideosink sync=false\n",
    "```\n",
    "\n",
    "## start imagenet\n",
    "```\n",
    "start|imagenet|input=v4l2:///dev/video0|output=rtp://[user_ip]:1234\n",
    "\n",
    "// use internal default model：googlenet\n",
    "// reference：https://github.com/dusty-nv/jetson-inference#image-recognition\n",
    "start|imagenet|input=v4l2:///dev/video0|output=rtp://[user_ip]:1234|model_name=googlenet\n",
    "```\n",
    "\n",
    "## start apriltag\n",
    "```\n",
    "start|apriltag\n",
    "```\n",
    "\n",
    "## close ROS service\n",
    "```\n",
    "stop\n",
    "```"
   ]
  },
  {
   "cell_type": "code",
   "execution_count": null,
   "metadata": {},
   "outputs": [],
   "source": []
  }
 ],
 "metadata": {
  "kernelspec": {
   "display_name": "Python 3",
   "language": "python",
   "name": "python3"
  },
  "language_info": {
   "codemirror_mode": {
    "name": "ipython",
    "version": 3
   },
   "file_extension": ".py",
   "mimetype": "text/x-python",
   "name": "python",
   "nbconvert_exporter": "python",
   "pygments_lexer": "ipython3",
   "version": "3.6.9"
  }
 },
 "nbformat": 4,
 "nbformat_minor": 4
}
