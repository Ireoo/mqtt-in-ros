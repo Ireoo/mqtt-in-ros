{
 "cells": [
  {
   "cell_type": "code",
   "execution_count": null,
   "metadata": {},
   "outputs": [],
   "source": [
    "import os\n",
    "\n",
    "# MQTT server address\n",
    "os.environ[\"MQTT_IP\"] = \"localhost\"\n",
    "os.environ[\"MQTT_PORT\"] = \"1883\""
   ]
  },
  {
   "cell_type": "code",
   "execution_count": null,
   "metadata": {},
   "outputs": [],
   "source": [
    "!cd /home/nvidia/mqtt_ws/src/mqtt && git checkout -- config/demo_params.yaml"
   ]
  },
  {
   "cell_type": "code",
   "execution_count": null,
   "metadata": {},
   "outputs": [],
   "source": [
    "!sed -i \"s/host: localhost/host: $MQTT_IP/g\" /home/nvidia/mqtt_ws/src/mqtt/config/demo_params.yaml"
   ]
  },
  {
   "cell_type": "code",
   "execution_count": null,
   "metadata": {},
   "outputs": [],
   "source": [
    "!sed -i \"s/port: 1883/port: $MQTT_PORT/g\" /home/nvidia/mqtt_ws/src/mqtt/config/demo_params.yaml"
   ]
  },
  {
   "cell_type": "code",
   "execution_count": null,
   "metadata": {},
   "outputs": [],
   "source": [
    "!chmod +x -R /home/nvidia/mqtt_ws"
   ]
  },
  {
   "cell_type": "code",
   "execution_count": 10,
   "metadata": {},
   "outputs": [
    {
     "name": "stdout",
     "output_type": "stream",
     "text": [
      "... logging to /root/.ros/log/7a3270fc-fe11-11ed-bb08-401c8340e188/roslaunch-nvidia-desktop-15191.log\n",
      "Checking log directory for disk usage. This may take a while.\n",
      "Press Ctrl-C to interrupt\n",
      "Done checking log file disk usage. Usage is <1GB.\n",
      "\u001b]2;/home/nvidia/mqtt_ws/src/mqtt/launch/demo.launch\u0007\n",
      "\u001b[1mstarted roslaunch server http://nvidia-desktop:41717/\u001b[0m\n",
      "\n",
      "SUMMARY\n",
      "========\n",
      "\n",
      "PARAMETERS\n",
      " * /mqtt_bridge/bridge: [{'topic_from': '...\n",
      " * /mqtt_bridge/mqtt/client/protocol: 4\n",
      " * /mqtt_bridge/mqtt/connection/host: localhost\n",
      " * /mqtt_bridge/mqtt/connection/keepalive: 60\n",
      " * /mqtt_bridge/mqtt/connection/port: 1883\n",
      " * /mqtt_bridge/mqtt/deserializer: json:loads\n",
      " * /mqtt_bridge/mqtt/private_path: device/001\n",
      " * /mqtt_bridge/mqtt/serializer: json:dumps\n",
      " * /rosdistro: melodic\n",
      " * /rosversion: 1.14.13\n",
      "\n",
      "NODES\n",
      "  /\n",
      "    mqtt_bridge (mqtt_bridge/mqtt_bridge_node.py)\n",
      "\n",
      "\u001b[1mROS_MASTER_URI=http://localhost:11311\u001b[0m\n",
      "\u001b]2;/home/nvidia/mqtt_ws/src/mqtt/launch/demo.launch http://localhost:11311\u0007\n",
      "\u001b[1mprocess[mqtt_bridge-1]: started with pid [15208]\u001b[0m\n",
      "[INFO] [1685359640.972738]: MQTT connected\n",
      "^C\n",
      "[mqtt_bridge-1] killing on exit\n",
      "[INFO] [1685359759.852535]: MQTT disconnected\n"
     ]
    }
   ],
   "source": [
    "# 出现错误根据错误执行下面相关操作，默认已经全部安装\n",
    "!roslaunch mqtt_bridge demo.launch"
   ]
  },
  {
   "cell_type": "code",
   "execution_count": null,
   "metadata": {},
   "outputs": [],
   "source": [
    "!pip install -r dev-requirements.txt"
   ]
  },
  {
   "cell_type": "code",
   "execution_count": null,
   "metadata": {},
   "outputs": [],
   "source": [
    "!pip install rospkg"
   ]
  },
  {
   "cell_type": "code",
   "execution_count": null,
   "metadata": {},
   "outputs": [],
   "source": [
    "!apt install ros-melodic-apriltag-ros -y"
   ]
  },
  {
   "cell_type": "markdown",
   "metadata": {
    "tags": []
   },
   "source": [
    "# 下面是使用 MQTT Explorer 相关操作\n",
    "\n",
    "## 启动 detectnet\n",
    "```\n",
    "start|detectnet|input=v4l2:///dev/video0|output=rtp://[user ip]:1234|width=1980|height=1080\n",
    "```\n",
    "\n",
    "## 启动 videoviewer\n",
    "```\n",
    "start|videoviewer|input=v4l2:///dev/video0|output=rtp://[user ip]:1234|width=1980|height=1080\n",
    "```\n",
    "\n",
    "## 启动 imagenet\n",
    "```\n",
    "start|imagenet|input=v4l2:///dev/video0|output=rtp://[user ip]:1234\n",
    "```\n",
    "\n",
    "## 启动 apriltag\n",
    "```\n",
    "start|apriltag\n",
    "```\n",
    "\n",
    "## 关闭服务\n",
    "```\n",
    "stop\n",
    "```"
   ]
  }
 ],
 "metadata": {
  "kernelspec": {
   "display_name": "Python 3",
   "language": "python",
   "name": "python3"
  },
  "language_info": {
   "codemirror_mode": {
    "name": "ipython",
    "version": 3
   },
   "file_extension": ".py",
   "mimetype": "text/x-python",
   "name": "python",
   "nbconvert_exporter": "python",
   "pygments_lexer": "ipython3",
   "version": "3.6.9"
  }
 },
 "nbformat": 4,
 "nbformat_minor": 4
}
