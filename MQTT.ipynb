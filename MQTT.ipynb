{
 "cells": [
  {
   "cell_type": "code",
   "execution_count": 23,
   "metadata": {},
   "outputs": [],
   "source": [
    "import os\n",
    "\n",
    "# 设置环境变量\n",
    "os.environ[\"IP\"] = \"192.168.74.130\"\n",
    "\n",
    "# device name\n",
    "os.environ[\"MAC_ID\"] = \"car\"\n",
    "\n",
    "# MQTT server address\n",
    "os.environ[\"MQTT_IP\"] = \"192.168.74.1:1883\"\n",
    "\n",
    "# detectnet\n",
    "os.environ[\"VIDEO_IP\"] = \"192.168.74.1:1234\"\n",
    "os.environ[\"VIDEO_WIDTH\"] = \"1980\"\n",
    "os.environ[\"VIDEO_HEIGHT\"] = \"1080\""
   ]
  },
  {
   "cell_type": "markdown",
   "metadata": {},
   "source": [
    "# connect MQTT server"
   ]
  },
  {
   "cell_type": "code",
   "execution_count": 21,
   "metadata": {},
   "outputs": [
    {
     "name": "stdout",
     "output_type": "stream",
     "text": [
      "http://192.168.74.130/connect?machineid=car&mqtt_ip=192.168.74.1:1883\r\n"
     ]
    }
   ],
   "source": [
    "!echo \"http://$IP/connect?machineid=$MAC_ID&mqtt_ip=$MQTT_IP\""
   ]
  },
  {
   "cell_type": "markdown",
   "metadata": {},
   "source": [
    "# close MQTT"
   ]
  },
  {
   "cell_type": "code",
   "execution_count": 22,
   "metadata": {},
   "outputs": [
    {
     "name": "stdout",
     "output_type": "stream",
     "text": [
      "http://192.168.74.130/stop?machineid=car\r\n"
     ]
    }
   ],
   "source": [
    "!echo \"http://$IP/stop?machineid=$MAC_ID\""
   ]
  },
  {
   "cell_type": "markdown",
   "metadata": {},
   "source": [
    "# 下面是 MQTT 相关操作"
   ]
  },
  {
   "cell_type": "code",
   "execution_count": 25,
   "metadata": {
    "scrolled": true
   },
   "outputs": [
    {
     "name": "stdout",
     "output_type": "stream",
     "text": [
      "mosquitto_pub -t car -m 'start|detectnet|input=v4l2:///dev/video0|output=rtp://192.168.74.1:1234|width=1980|height=1080'\r\n"
     ]
    }
   ],
   "source": [
    "# run detectnet\n",
    "!echo \"mosquitto_pub -t $MAC_ID -m 'start|detectnet|input=v4l2:///dev/video0|output=rtp://$VIDEO_IP|width=$VIDEO_WIDTH|height=$VIDEO_HEIGHT'\""
   ]
  },
  {
   "cell_type": "code",
   "execution_count": 26,
   "metadata": {},
   "outputs": [
    {
     "name": "stdout",
     "output_type": "stream",
     "text": [
      "mosquitto_pub -t car -m 'start|apriltag'\r\n"
     ]
    }
   ],
   "source": [
    "# run apriltag\n",
    "!echo \"mosquitto_pub -t $MAC_ID -m 'start|apriltag'\""
   ]
  },
  {
   "cell_type": "code",
   "execution_count": null,
   "metadata": {},
   "outputs": [],
   "source": []
  }
 ],
 "metadata": {
  "kernelspec": {
   "display_name": "Python 3",
   "language": "python",
   "name": "python3"
  },
  "language_info": {
   "codemirror_mode": {
    "name": "ipython",
    "version": 3
   },
   "file_extension": ".py",
   "mimetype": "text/x-python",
   "name": "python",
   "nbconvert_exporter": "python",
   "pygments_lexer": "ipython3",
   "version": "3.6.9"
  }
 },
 "nbformat": 4,
 "nbformat_minor": 2
}
